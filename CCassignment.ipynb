{
  "nbformat": 4,
  "nbformat_minor": 0,
  "metadata": {
    "colab": {
      "provenance": [],
      "authorship_tag": "ABX9TyMgQpvw3eU0Jj013uWvbefh",
      "include_colab_link": true
    },
    "kernelspec": {
      "name": "python3",
      "display_name": "Python 3"
    },
    "language_info": {
      "name": "python"
    }
  },
  "cells": [
    {
      "cell_type": "markdown",
      "metadata": {
        "id": "view-in-github",
        "colab_type": "text"
      },
      "source": [
        "<a href=\"https://colab.research.google.com/github/Vidhik11/Game/blob/main/CCassignment.ipynb\" target=\"_parent\"><img src=\"https://colab.research.google.com/assets/colab-badge.svg\" alt=\"Open In Colab\"/></a>"
      ]
    },
    {
      "cell_type": "code",
      "source": [
        "import random\n",
        "\n",
        "# Generate a random number between 1 and 10\n",
        "secret_number = random.randint(1, 10)\n",
        "\n",
        "# Initialize the number of guesses\n",
        "guesses = 0\n",
        "\n",
        "# Main game loop\n",
        "while True:\n",
        "    # Ask the player for their guess\n",
        "    guess = int(input(\"Guess the number between 1 and 10: \"))\n",
        "\n",
        "    # Increment the number of guesses\n",
        "    guesses += 1\n",
        "\n",
        "    # Check if the guess is correct\n",
        "    if guess == secret_number:\n",
        "        print(f\"Congratulations! You guessed the number {secret_number} in {guesses} guesses.\")\n",
        "        break\n",
        "    elif guess < secret_number:\n",
        "        print(\"Try a higher number.\")\n",
        "    else:\n",
        "        print(\"Try a lower number.\")"
      ],
      "metadata": {
        "colab": {
          "base_uri": "https://localhost:8080/"
        },
        "id": "Aa_AV_5aQQCY",
        "outputId": "7085c110-87e2-4f54-c1eb-46bca2deed02"
      },
      "execution_count": 3,
      "outputs": [
        {
          "output_type": "stream",
          "name": "stdout",
          "text": [
            "Guess the number between 1 and 10: 5\n",
            "Try a higher number.\n",
            "Guess the number between 1 and 10: 3\n",
            "Try a higher number.\n",
            "Guess the number between 1 and 10: 7\n",
            "Congratulations! You guessed the number 7 in 3 guesses.\n"
          ]
        }
      ]
    }
  ]
}